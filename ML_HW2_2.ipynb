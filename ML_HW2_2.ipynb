{
 "cells": [
  {
   "cell_type": "markdown",
   "id": "aedaac2a-f711-41e1-ad46-72ad11d20eeb",
   "metadata": {},
   "source": [
    "Возьму датасет, содержащий описание цветков ириса и их \n",
    "классификацию по сортам (Setosa, Versicolour, Virginica из в sklearn.datasets.load_iris.\r"
   ]
  },
  {
   "cell_type": "code",
   "execution_count": 26,
   "id": "4a3bd8db-ecb6-4708-985a-84c70e44e523",
   "metadata": {},
   "outputs": [],
   "source": [
    "from sklearn.datasets import load_iris\n",
    "from sklearn.model_selection import train_test_split\n",
    "import pandas as pd\n",
    "\n",
    "iris = load_iris()"
   ]
  },
  {
   "cell_type": "markdown",
   "id": "4267bf8f-92d9-4c84-9570-b09ac605f4a3",
   "metadata": {},
   "source": [
    "Разделю данные на обучающую и тестирующую выборку в соотношение 70%/30%"
   ]
  },
  {
   "cell_type": "code",
   "execution_count": 27,
   "id": "a32685eb-9a76-4778-a7e5-451ec8ce5c07",
   "metadata": {},
   "outputs": [],
   "source": [
    "x_train, x_test, y_train, y_test = train_test_split(iris.data, iris.target, test_size=0.7)"
   ]
  },
  {
   "cell_type": "markdown",
   "id": "1ebe3cab-2a3a-45f7-ab53-24dd0274efb9",
   "metadata": {},
   "source": [
    "С помощью метода LDA реализую классификацию сортов ириса на основании признаков датасета. Затем по метрикам из первого задания оценю эффективность классификатора."
   ]
  },
  {
   "cell_type": "code",
   "execution_count": 28,
   "id": "bcb56fae-266d-4e84-ac18-80a585534c3d",
   "metadata": {},
   "outputs": [
    {
     "name": "stdout",
     "output_type": "stream",
     "text": [
      "Процент правильных ответов -  96.19 %\n"
     ]
    }
   ],
   "source": [
    "from sklearn.discriminant_analysis import LinearDiscriminantAnalysis\n",
    "\n",
    "lda = LinearDiscriminantAnalysis()\n",
    "lda.fit(x_train, y_train)\n",
    "\n",
    "from sklearn.metrics import accuracy_score\n",
    "pred = lda.predict(x_test)\n",
    "print(\"Процент правильных ответов - \", round(accuracy_score(y_test, pred)*100, 2), \"%\")"
   ]
  },
  {
   "cell_type": "markdown",
   "id": "a4ceabee-ad3a-4821-972c-07188cb6fbda",
   "metadata": {},
   "source": [
    "Процент правильных ответов достаточно высокий. Теперь посмотрим, матрицу ошибок."
   ]
  },
  {
   "cell_type": "code",
   "execution_count": 29,
   "id": "7b45eac2-ea7d-40e1-a8fe-ae11c16914af",
   "metadata": {},
   "outputs": [
    {
     "name": "stdout",
     "output_type": "stream",
     "text": [
      "Первый вид ириса правильно определен - 32 раз из 32. В процентах - 100.0 %\n",
      "Второй вид ириса правильно определен - 40 раз из 41. В процентах - 97.56 %\n",
      "Третий вид ириса правильно определен - 29 раз из 32. В процентах - 90.62 %\n"
     ]
    }
   ],
   "source": [
    "from sklearn.metrics import confusion_matrix\n",
    "\n",
    "matrix = confusion_matrix(y_test, pred)\n",
    "print(f'Первый вид ириса правильно определен - {matrix[0][0]} раз из {sum(matrix[0])}. В процентах - {round(matrix[0][0]/sum(matrix[0])*100, 2)} %')\n",
    "print(f'Второй вид ириса правильно определен - {matrix[1][1]} раз из {sum(matrix[1])}. В процентах - {round(matrix[1][1]/sum(matrix[1])*100, 2)} %')\n",
    "print(f'Третий вид ириса правильно определен - {matrix[2][2]} раз из {sum(matrix[2])}. В процентах - {round(matrix[2][2]/sum(matrix[2])*100, 2)} %')"
   ]
  },
  {
   "cell_type": "markdown",
   "id": "fd3a41f7-1b4a-4e11-b7a3-2c5c085ea4d8",
   "metadata": {},
   "source": [
    "Как можно видеть, классификатор выдал очень хорошие результаты. И при каждом обучении доля правильных ответов в любом классе выше 90%\n",
    "\n",
    "Сравню метод LDA из sklearn.discriminant_analysis и реализацию из Sem3.ipynb.\n",
    "Для этого скопирую сюда реализацию из sem3.ipynb"
   ]
  },
  {
   "cell_type": "code",
   "execution_count": 30,
   "id": "dd43d90c-ba26-4e8a-8131-ffb358092a36",
   "metadata": {},
   "outputs": [],
   "source": [
    "import numpy as np\n",
    "\n",
    "def LDA_dimensionality(X, y, k):\n",
    "    '''\n",
    "    X - набор данных, y - метка, k - целевой размер\n",
    "    '''\n",
    "    label_ = list(set(y))\n",
    "\n",
    "    X_classify = {}\n",
    "\n",
    "    for label in label_:\n",
    "        X1 = np.array([X[i] for i in range(len(X)) if y[i] == label])\n",
    "        X_classify[label] = X1\n",
    "\n",
    "    mju = np.mean(X, axis=0)\n",
    "    mju_classify = {}\n",
    "\n",
    "    for label in label_:\n",
    "        mju1 = np.mean(X_classify[label], axis=0)\n",
    "        mju_classify[label] = mju1\n",
    "\n",
    "    #St = np.dot((X - mju).T, X - mju)\n",
    "\n",
    "    Sw = np.zeros((len(mju), len(mju)))  # Вычислить матрицу внутриклассовой дивергенции\n",
    "    for i in label_:\n",
    "        Sw += np.dot((X_classify[i] - mju_classify[i]).T,\n",
    "                     X_classify[i] - mju_classify[i])\n",
    "\n",
    "    # Sb=St-Sw\n",
    "\n",
    "    Sb = np.zeros((len(mju), len(mju)))  # Вычислить матрицу внутриклассовой дивергенции\n",
    "    for i in label_:\n",
    "        Sb += len(X_classify[i]) * np.dot((mju_classify[i] - mju).reshape(\n",
    "            (len(mju), 1)), (mju_classify[i] - mju).reshape((1, len(mju))))\n",
    "\n",
    "    eig_vals, eig_vecs = np.linalg.eig(\n",
    "        np.linalg.inv(Sw).dot(Sb))  # Вычислить собственное значение и собственную матрицу Sw-1 * Sb\n",
    "\n",
    "    sorted_indices = np.argsort(eig_vals)\n",
    "    topk_eig_vecs = eig_vecs[:, sorted_indices[:-k - 1:-1]]  # Извлекаем первые k векторов признаков\n",
    "    return topk_eig_vecs"
   ]
  },
  {
   "cell_type": "markdown",
   "id": "2c6989b4-8650-46d4-9170-9827bbc1d17b",
   "metadata": {},
   "source": [
    " Проведу классификацию"
   ]
  },
  {
   "cell_type": "code",
   "execution_count": 31,
   "id": "34f04176-ab44-4cea-865e-a3abe10c0b74",
   "metadata": {},
   "outputs": [],
   "source": [
    "import numpy as np\n",
    "W = LDA_dimensionality(x_train, y_train, 4)\n",
    "X_new = np.dot((x_test), W)\n",
    "#print(\"Процент правильных ответов - \", round(accuracy_score(y_test, X_new)*100, 2), \"%\")"
   ]
  },
  {
   "cell_type": "code",
   "execution_count": 32,
   "id": "6204b95e-abde-46ad-9bbd-56a4d2750ebc",
   "metadata": {},
   "outputs": [
    {
     "name": "stdout",
     "output_type": "stream",
     "text": [
      "Первый вид ириса правильно определен - 32 раз из 32. В процентах - 100.0 %\n",
      "Второй вид ириса правильно определен - 40 раз из 41. В процентах - 97.56 %\n",
      "Третий вид ириса правильно определен - 29 раз из 32. В процентах - 90.62 %\n"
     ]
    }
   ],
   "source": [
    "matrix = confusion_matrix(y_test, pred)\n",
    "print(f'Первый вид ириса правильно определен - {matrix[0][0]} раз из {sum(matrix[0])}. В процентах - {round(matrix[0][0]/sum(matrix[0])*100, 2)} %')\n",
    "print(f'Второй вид ириса правильно определен - {matrix[1][1]} раз из {sum(matrix[1])}. В процентах - {round(matrix[1][1]/sum(matrix[1])*100, 2)} %')\n",
    "print(f'Третий вид ириса правильно определен - {matrix[2][2]} раз из {sum(matrix[2])}. В процентах - {round(matrix[2][2]/sum(matrix[2])*100, 2)} %')"
   ]
  },
  {
   "cell_type": "markdown",
   "id": "06bc19ce-66cc-4902-98cc-1be9a8cc2572",
   "metadata": {},
   "source": [
    "Из результатов работы можно видеть, что реализация библиотеки sklearn и реализация из файла Sem3.ipynb выдают"
   ]
  },
  {
   "cell_type": "markdown",
   "id": "33b48c3c-cd60-420d-a9e7-0f90febe35a0",
   "metadata": {},
   "source": [
    "Рассмотрите документацию метода LDA и измените параметры клас\u0002сификатора таким образом, чтобы алгоритм работал эффективнее\r\n",
    "(например, поменять параметр solver). Какие параметры классифи\u0002катора сильнее сказываются на конечном результате? Чем это может\r\n",
    "быть объяснимо?"
   ]
  },
  {
   "cell_type": "code",
   "execution_count": 42,
   "id": "24f91023-81d6-4a63-ac11-3f326504b6db",
   "metadata": {},
   "outputs": [
    {
     "name": "stdout",
     "output_type": "stream",
     "text": [
      "Процент правильных ответов -  96.19 %\n"
     ]
    }
   ],
   "source": [
    "lda = LinearDiscriminantAnalysis(solver = 'lsqr')\n",
    "lda.fit(x_train, y_train)\n",
    "\n",
    "pred = lda.predict(x_test)\n",
    "print(\"Процент правильных ответов - \", round(accuracy_score(y_test, pred)*100, 2), \"%\")"
   ]
  },
  {
   "cell_type": "code",
   "execution_count": null,
   "id": "4f603f77-5b34-4183-b026-9ee77d11fb56",
   "metadata": {},
   "outputs": [],
   "source": []
  }
 ],
 "metadata": {
  "kernelspec": {
   "display_name": "Python 3 (ipykernel)",
   "language": "python",
   "name": "python3"
  },
  "language_info": {
   "codemirror_mode": {
    "name": "ipython",
    "version": 3
   },
   "file_extension": ".py",
   "mimetype": "text/x-python",
   "name": "python",
   "nbconvert_exporter": "python",
   "pygments_lexer": "ipython3",
   "version": "3.10.4"
  }
 },
 "nbformat": 4,
 "nbformat_minor": 5
}
