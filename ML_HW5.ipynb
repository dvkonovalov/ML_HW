{
 "cells": [
  {
   "cell_type": "markdown",
   "id": "9b6e4041-d697-4f20-a05c-c4ead84b9619",
   "metadata": {},
   "source": [
    "Для начала необходимо собрать датасет с текстами песен. В моей работе класстерами будут  исполнители. Собирать данные для датасета буду с помощью парсера с сайта https://www.litprichal.ru/ (сам парсер можно посмотреть в репозитории, файл parser.py), результат работы парсера буду ложить в файл songs.csv. При этом формат каждой записи такой: Исполнитель, Название песни, Текст. \n",
    "\n",
    "Данные уже сразу отфильтрованы: переведены в нижний регистр, оставлены только русские символы (так как и исполнители русские), удалены знаки препинания, переноса и т.д. То есть текст песен в формате:  (\"слово1 слово2 слово3 ...\") \n",
    "\n",
    "Изначальные класстеры - 'Король и шут', 'Владимир Высоцкий', 'Смешарики', 'ДДТ', 'Юрий Шатунов',  'Руки вверх', 'Виктор Цой.\n",
    "\n",
    "\n",
    "Размер датасета - 740 записей'"
   ]
  },
  {
   "cell_type": "markdown",
   "id": "5c674c51-9dd9-4ba9-ae64-a1ec6f9b0a0a",
   "metadata": {},
   "source": [
    "Импортируем все необходимые модули в блоке ниже"
   ]
  },
  {
   "cell_type": "code",
   "execution_count": 14,
   "id": "9eb3c6d1-f6bd-49ee-b621-c9077dc9f220",
   "metadata": {},
   "outputs": [],
   "source": [
    "import pandas as pd\n",
    "import numpy as np\n",
    "from sklearn.preprocessing import LabelEncoder\n",
    "from sklearn.feature_extraction.text import TfidfVectorizer #https://scikit-learn.org/stable/modules/generated/sklearn.feature_extraction.text.TfidfVectorizer.html\n",
    "from sklearn.cluster import KMeans #https://scikit-learn.org/stable/modules/generated/sklearn.cluster.KMeans.html\n",
    "from sklearn import metrics\n",
    "from sklearn.cluster import MiniBatchKMeans"
   ]
  },
  {
   "cell_type": "markdown",
   "id": "4a9f93ae-2c12-419a-90a6-ac11b3bc7ef9",
   "metadata": {},
   "source": [
    "Открываю файл \"songs.csv\" и записываю данные в dataframe pandas (кодировка windows-1251, так как текст русский)\n",
    "\n",
    "Выведу датафрейм, чтобы показать существование данных"
   ]
  },
  {
   "cell_type": "code",
   "execution_count": 15,
   "id": "174d1e52-4da4-4af7-8b9a-6fd5f284d009",
   "metadata": {},
   "outputs": [
    {
     "data": {
      "text/html": [
       "<div>\n",
       "<style scoped>\n",
       "    .dataframe tbody tr th:only-of-type {\n",
       "        vertical-align: middle;\n",
       "    }\n",
       "\n",
       "    .dataframe tbody tr th {\n",
       "        vertical-align: top;\n",
       "    }\n",
       "\n",
       "    .dataframe thead th {\n",
       "        text-align: right;\n",
       "    }\n",
       "</style>\n",
       "<table border=\"1\" class=\"dataframe\">\n",
       "  <thead>\n",
       "    <tr style=\"text-align: right;\">\n",
       "      <th></th>\n",
       "      <th>Исполнитель</th>\n",
       "      <th>Название песни</th>\n",
       "      <th>Текст</th>\n",
       "    </tr>\n",
       "  </thead>\n",
       "  <tbody>\n",
       "    <tr>\n",
       "      <th>0</th>\n",
       "      <td>Король и шут</td>\n",
       "      <td>некромант ты говоришь я демон так и есть со мн...</td>\n",
       "      <td>ты говоришь я демон так и есть со мною не вида...</td>\n",
       "    </tr>\n",
       "    <tr>\n",
       "      <th>1</th>\n",
       "      <td>Король и шут</td>\n",
       "      <td>мертвый анархист</td>\n",
       "      <td>ослепший старый маг ночью по лесу бродил на кл...</td>\n",
       "    </tr>\n",
       "    <tr>\n",
       "      <th>2</th>\n",
       "      <td>Король и шут</td>\n",
       "      <td>кукла колдуна акустика</td>\n",
       "      <td>темный мрачный коридор я на цыпочках как вор п...</td>\n",
       "    </tr>\n",
       "    <tr>\n",
       "      <th>3</th>\n",
       "      <td>Король и шут</td>\n",
       "      <td>лесник</td>\n",
       "      <td>замученный дорогой я выбился из сил и в доме л...</td>\n",
       "    </tr>\n",
       "    <tr>\n",
       "      <th>4</th>\n",
       "      <td>Король и шут</td>\n",
       "      <td>прыгну со скалы</td>\n",
       "      <td>с головы сорвал ветер мой колпак  я хотел лю...</td>\n",
       "    </tr>\n",
       "    <tr>\n",
       "      <th>...</th>\n",
       "      <td>...</td>\n",
       "      <td>...</td>\n",
       "      <td>...</td>\n",
       "    </tr>\n",
       "    <tr>\n",
       "      <th>735</th>\n",
       "      <td>Виктор Цой</td>\n",
       "      <td>алюминевые огурцы</td>\n",
       "      <td>здравствуйте девочки здравствуйте мальчики смо...</td>\n",
       "    </tr>\n",
       "    <tr>\n",
       "      <th>736</th>\n",
       "      <td>Виктор Цой</td>\n",
       "      <td>дальше действовать будем мы от паши корейца и</td>\n",
       "      <td>мы хотим видеть дальше чем окна дома напротив ...</td>\n",
       "    </tr>\n",
       "    <tr>\n",
       "      <th>737</th>\n",
       "      <td>Виктор Цой</td>\n",
       "      <td>следи за собой</td>\n",
       "      <td>сегодня кому то говорят до свиданья завтра ска...</td>\n",
       "    </tr>\n",
       "    <tr>\n",
       "      <th>738</th>\n",
       "      <td>Виктор Цой</td>\n",
       "      <td>перемен от паши корейца и</td>\n",
       "      <td>вместо тепла зелень стекла вместо огня дым из ...</td>\n",
       "    </tr>\n",
       "    <tr>\n",
       "      <th>739</th>\n",
       "      <td>Виктор Цой</td>\n",
       "      <td>аллюминиевые огурцы</td>\n",
       "      <td>здравствуйте девочки здравствуйте мальчики смо...</td>\n",
       "    </tr>\n",
       "  </tbody>\n",
       "</table>\n",
       "<p>740 rows × 3 columns</p>\n",
       "</div>"
      ],
      "text/plain": [
       "      Исполнитель                                     Название песни  \\\n",
       "0    Король и шут  некромант ты говоришь я демон так и есть со мн...   \n",
       "1    Король и шут                                   мертвый анархист   \n",
       "2    Король и шут                             кукла колдуна акустика   \n",
       "3    Король и шут                                             лесник   \n",
       "4    Король и шут                                    прыгну со скалы   \n",
       "..            ...                                                ...   \n",
       "735    Виктор Цой                                  алюминевые огурцы   \n",
       "736    Виктор Цой     дальше действовать будем мы от паши корейца и    \n",
       "737    Виктор Цой                                     следи за собой   \n",
       "738    Виктор Цой                         перемен от паши корейца и    \n",
       "739    Виктор Цой                                аллюминиевые огурцы   \n",
       "\n",
       "                                                 Текст  \n",
       "0    ты говоришь я демон так и есть со мною не вида...  \n",
       "1    ослепший старый маг ночью по лесу бродил на кл...  \n",
       "2    темный мрачный коридор я на цыпочках как вор п...  \n",
       "3    замученный дорогой я выбился из сил и в доме л...  \n",
       "4      с головы сорвал ветер мой колпак  я хотел лю...  \n",
       "..                                                 ...  \n",
       "735  здравствуйте девочки здравствуйте мальчики смо...  \n",
       "736  мы хотим видеть дальше чем окна дома напротив ...  \n",
       "737  сегодня кому то говорят до свиданья завтра ска...  \n",
       "738  вместо тепла зелень стекла вместо огня дым из ...  \n",
       "739  здравствуйте девочки здравствуйте мальчики смо...  \n",
       "\n",
       "[740 rows x 3 columns]"
      ]
     },
     "execution_count": 15,
     "metadata": {},
     "output_type": "execute_result"
    }
   ],
   "source": [
    "data = pd.read_csv(\"songs.csv\", encoding='windows-1251')\n",
    "data"
   ]
  },
  {
   "cell_type": "markdown",
   "id": "9fb6371a-2091-4228-b89c-892f1c7e2fa4",
   "metadata": {},
   "source": [
    "Удаляем столбец с названием песен и перемешиваем строки, так как сейчас они идут группами по порядку исполнителей."
   ]
  },
  {
   "cell_type": "code",
   "execution_count": 16,
   "id": "cded3d02-3c29-4ef3-8fbc-8cb05d9fcaa5",
   "metadata": {},
   "outputs": [
    {
     "data": {
      "text/html": [
       "<div>\n",
       "<style scoped>\n",
       "    .dataframe tbody tr th:only-of-type {\n",
       "        vertical-align: middle;\n",
       "    }\n",
       "\n",
       "    .dataframe tbody tr th {\n",
       "        vertical-align: top;\n",
       "    }\n",
       "\n",
       "    .dataframe thead th {\n",
       "        text-align: right;\n",
       "    }\n",
       "</style>\n",
       "<table border=\"1\" class=\"dataframe\">\n",
       "  <thead>\n",
       "    <tr style=\"text-align: right;\">\n",
       "      <th></th>\n",
       "      <th>Исполнитель</th>\n",
       "      <th>Текст</th>\n",
       "    </tr>\n",
       "  </thead>\n",
       "  <tbody>\n",
       "    <tr>\n",
       "      <th>0</th>\n",
       "      <td>Король и шут</td>\n",
       "      <td>во мрак погружен туманный альбион в долине пок...</td>\n",
       "    </tr>\n",
       "    <tr>\n",
       "      <th>1</th>\n",
       "      <td>ДДТ</td>\n",
       "      <td>ночь куранты бьются злея чтото брат им невдоме...</td>\n",
       "    </tr>\n",
       "    <tr>\n",
       "      <th>2</th>\n",
       "      <td>Король и шут</td>\n",
       "      <td>какой таинственной казалась мне та ночь я зату...</td>\n",
       "    </tr>\n",
       "    <tr>\n",
       "      <th>3</th>\n",
       "      <td>Владимир Высоцкий</td>\n",
       "      <td>зарыты в нашу память на века и даты и события ...</td>\n",
       "    </tr>\n",
       "    <tr>\n",
       "      <th>4</th>\n",
       "      <td>Руки вверх</td>\n",
       "      <td>до чего ж я невезучий до чего ж я невезучий та...</td>\n",
       "    </tr>\n",
       "    <tr>\n",
       "      <th>...</th>\n",
       "      <td>...</td>\n",
       "      <td>...</td>\n",
       "    </tr>\n",
       "    <tr>\n",
       "      <th>735</th>\n",
       "      <td>Король и шут</td>\n",
       "      <td>как юнец сто ночей шел за ней я шел за ней мне...</td>\n",
       "    </tr>\n",
       "    <tr>\n",
       "      <th>736</th>\n",
       "      <td>Юрий Шатунов</td>\n",
       "      <td>закат окончил летний теплый вечер остановился ...</td>\n",
       "    </tr>\n",
       "    <tr>\n",
       "      <th>737</th>\n",
       "      <td>ДДТ</td>\n",
       "      <td>это было в ленинграде и довольно давно на свет...</td>\n",
       "    </tr>\n",
       "    <tr>\n",
       "      <th>738</th>\n",
       "      <td>Юрий Шатунов</td>\n",
       "      <td>мы сегодня с тобою вдвоем не хочу ни о чем гов...</td>\n",
       "    </tr>\n",
       "    <tr>\n",
       "      <th>739</th>\n",
       "      <td>Смешарики</td>\n",
       "      <td>ооо ооо ооо  еще вчера я был угрюмый малый сег...</td>\n",
       "    </tr>\n",
       "  </tbody>\n",
       "</table>\n",
       "<p>740 rows × 2 columns</p>\n",
       "</div>"
      ],
      "text/plain": [
       "           Исполнитель                                              Текст\n",
       "0         Король и шут  во мрак погружен туманный альбион в долине пок...\n",
       "1                  ДДТ  ночь куранты бьются злея чтото брат им невдоме...\n",
       "2         Король и шут  какой таинственной казалась мне та ночь я зату...\n",
       "3    Владимир Высоцкий  зарыты в нашу память на века и даты и события ...\n",
       "4           Руки вверх  до чего ж я невезучий до чего ж я невезучий та...\n",
       "..                 ...                                                ...\n",
       "735       Король и шут  как юнец сто ночей шел за ней я шел за ней мне...\n",
       "736       Юрий Шатунов  закат окончил летний теплый вечер остановился ...\n",
       "737                ДДТ  это было в ленинграде и довольно давно на свет...\n",
       "738       Юрий Шатунов  мы сегодня с тобою вдвоем не хочу ни о чем гов...\n",
       "739          Смешарики  ооо ооо ооо  еще вчера я был угрюмый малый сег...\n",
       "\n",
       "[740 rows x 2 columns]"
      ]
     },
     "execution_count": 16,
     "metadata": {},
     "output_type": "execute_result"
    }
   ],
   "source": [
    "data = data.drop('Название песни', axis=1)\n",
    "data = data.sample(frac=1).reset_index(drop=True)\n",
    "data"
   ]
  },
  {
   "cell_type": "markdown",
   "id": "8b46a503-f4c5-4d4e-8d9d-eea32a9b6740",
   "metadata": {},
   "source": [
    "Далее с помощью LabelEncoder переведу названия исполнителей в численный вид. Создам переменную Y_true, чтобы в последующем было удобнее работать с метриками расчета качества кластеризации"
   ]
  },
  {
   "cell_type": "code",
   "execution_count": 17,
   "id": "95d83bca-24ac-48b5-99e1-1c9c680956b3",
   "metadata": {},
   "outputs": [],
   "source": [
    "encoder = LabelEncoder()\n",
    "data['Исполнитель'] = encoder.fit_transform(data['Исполнитель'])\n",
    "Y_true = np.array(data['Исполнитель'])"
   ]
  },
  {
   "cell_type": "markdown",
   "id": "60fe18ef-8bd5-4698-a66b-d0fe2e8bad4c",
   "metadata": {},
   "source": [
    "Попробую сначала обработать тексты с помощью LabelEncoder, а затем с помощью KMeans провести класстеризацию и посмотреть качество с помощью метрик:\n",
    "\n",
    "Adjusted Rand Index (ARI): Вычисляет сходство между двумя наборами меток, предоставляя случайную оценку, если метки равномерно распределены.\n",
    "\n",
    "Homogeneity Score: Измеряет, насколько каждый кластер состоит из только одного класса.\n",
    "\n",
    "Completeness Score: Измеряет, насколько все экземпляры одного класса относятся к одному и тому же кластеру.\n",
    "\n",
    "Silhouette Coefficient: Измеряет среднее расстояние между объектами внутри кластера и объектами в соседних кластерах. Значение должно быть ближе к 1 для хорошей кластеризации."
   ]
  },
  {
   "cell_type": "code",
   "execution_count": 45,
   "id": "f1b82925-70b1-4dc0-9f35-b5235ad37a16",
   "metadata": {},
   "outputs": [
    {
     "name": "stdout",
     "output_type": "stream",
     "text": [
      "Adjusted Rand Index (ARI):  0.01064275610737603\n",
      "Homogeneity Score:  0.031115344206576082\n",
      "Completeness Score:  0.028809945575825606\n",
      "Silhouette Coefficient:  -0.08239928600393147\n"
     ]
    }
   ],
   "source": [
    "def show_metrics(Y_true, Y_pred):\n",
    "    ari_score = metrics.adjusted_rand_score(Y_true, Y_pred)\n",
    "    print(\"Adjusted Rand Index (ARI): \", ari_score)\n",
    "    homogeneity_score = metrics.homogeneity_score(Y_true, Y_pred)\n",
    "    print(\"Homogeneity Score: \", homogeneity_score)\n",
    "    completeness_score = metrics.completeness_score(Y_true, Y_pred)\n",
    "    print(\"Completeness Score: \", completeness_score)\n",
    "    silhouette_coefficient = metrics.silhouette_score(Y_true.reshape(-1, 1), Y_pred)\n",
    "    print(\"Silhouette Coefficient: \", silhouette_coefficient)\n",
    "    \n",
    "\n",
    "X = encoder.fit_transform(data['Текст'])\n",
    "X = X.reshape(-1, 1)\n",
    "\n",
    "kmeans = KMeans(n_clusters=data['Исполнитель'].max()+1, n_init='auto' )\n",
    "kmeans.fit(X)\n",
    "Y_pred = kmeans.predict(X)\n",
    "\n",
    "show_metrics(Y_true, Y_pred)"
   ]
  },
  {
   "cell_type": "markdown",
   "id": "804d14d4-efc4-4677-91bf-bf653dc7560a",
   "metadata": {},
   "source": [
    "Теперь запустим кластеризацию с теми же данными, но с помощью MiniBatchKMeans (интересно сравнить на сколько будет разница)"
   ]
  },
  {
   "cell_type": "code",
   "execution_count": 56,
   "id": "7aefcfb2-a3d7-49d4-bc54-e07d7e142306",
   "metadata": {},
   "outputs": [
    {
     "name": "stdout",
     "output_type": "stream",
     "text": [
      "Adjusted Rand Index (ARI):  0.010926583072114481\n",
      "Homogeneity Score:  0.03362144215189391\n",
      "Completeness Score:  0.031195532833832383\n",
      "Silhouette Coefficient:  -0.0947927401509405\n"
     ]
    }
   ],
   "source": [
    "minibatch_kmeans = MiniBatchKMeans(n_clusters=data['Исполнитель'].max()+1, n_init='auto')\n",
    "minibatch_kmeans.fit(X)\n",
    "Y_pred = minibatch_kmeans.predict(X)\n",
    "\n",
    "show_metrics(Y_true, Y_pred)"
   ]
  },
  {
   "cell_type": "markdown",
   "id": "64a26540-7f3c-4115-9a38-fe436f6783d7",
   "metadata": {},
   "source": [
    "Результат кластеризации пока что очень плохой, мы можно сказать рандомно разделили классы. Про сравнение эффективности MiniBatchKMeans и KMeans сказать сложно, так как результаты плохие у обоих алгоритмов"
   ]
  },
  {
   "cell_type": "markdown",
   "id": "46600caa-1643-4798-b04f-7eba82203ca8",
   "metadata": {},
   "source": [
    "Попробую улучшить результат класстеризации с помощью использования TF-IDF вместо LabelEncoder. Посмотрим, что из этого выйдет, но результат должен стать лучше\n",
    "\n",
    "Сначала также использую KMeans"
   ]
  },
  {
   "cell_type": "code",
   "execution_count": 62,
   "id": "da86deeb-ebbb-4f48-be64-fa4aff5f282e",
   "metadata": {},
   "outputs": [
    {
     "name": "stdout",
     "output_type": "stream",
     "text": [
      "Adjusted Rand Index (ARI):  0.12743366836508013\n",
      "Homogeneity Score:  0.16198418841247425\n",
      "Completeness Score:  0.16339706229343431\n",
      "Silhouette Coefficient:  -0.12151119201011261\n"
     ]
    }
   ],
   "source": [
    "vectorizer = TfidfVectorizer()\n",
    "X = vectorizer.fit_transform(data['Текст'])\n",
    "\n",
    "kmeans = KMeans(n_clusters=data['Исполнитель'].max()+1, n_init='auto' )\n",
    "kmeans.fit(X)\n",
    "Y_pred = kmeans.predict(X)\n",
    "\n",
    "show_metrics(Y_true, Y_pred)"
   ]
  },
  {
   "cell_type": "markdown",
   "id": "047b39d9-4f18-4820-9254-10ffc5ad24fd",
   "metadata": {},
   "source": [
    "Теперь запустим кластеризацию с теми же данными, но с помощью MiniBatchKMeans"
   ]
  },
  {
   "cell_type": "code",
   "execution_count": 69,
   "id": "147bd569-6206-474f-ad7b-4c49f4f5c901",
   "metadata": {},
   "outputs": [
    {
     "name": "stdout",
     "output_type": "stream",
     "text": [
      "Adjusted Rand Index (ARI):  0.1250929016200852\n",
      "Homogeneity Score:  0.1703927943170387\n",
      "Completeness Score:  0.2347372418933311\n",
      "Silhouette Coefficient:  -0.2620462451276643\n"
     ]
    }
   ],
   "source": [
    "minibatch_kmeans = MiniBatchKMeans(n_clusters=data['Исполнитель'].max()+1, n_init='auto')\n",
    "minibatch_kmeans.fit(X)\n",
    "Y_pred = minibatch_kmeans.predict(X)\n",
    "\n",
    "show_metrics(Y_true, Y_pred)"
   ]
  },
  {
   "cell_type": "markdown",
   "id": "b628dbad-becf-49a6-b826-eb7e3772a1f4",
   "metadata": {},
   "source": [
    "Как можно увидеть по метрикам, результат стал лучше по сравнению с предыдущей итерацией, но в целом остался все таким же низким (или около рандомным). При этом MiniBatchKMeans отрабатывает немного лучше, чем обычный KMeans "
   ]
  },
  {
   "cell_type": "markdown",
   "id": "2a504a04-80ce-4f43-900b-c74130be686d",
   "metadata": {},
   "source": [
    "<b>Вывод</b>: разделять песни по исполнителям только на основе текста – плохая идея, так как классификация в этом случае не дает приемлимого результата. Это связано с тем, что на основе только слов сложно определить конкретного исполнителя (к примеру в ДЗ №2 мы могли разделять имена, так как в именах есть определенная зависимость между полом и именем, а тут такой нет). Возможно, стоило бы использовать не только слова песни, а также дополнительно отцифровку звука исполнения конкретным исполнителем, амплитуду звука, продолжительночть песни и другие возможные параметры"
   ]
  }
 ],
 "metadata": {
  "kernelspec": {
   "display_name": "Python 3 (ipykernel)",
   "language": "python",
   "name": "python3"
  },
  "language_info": {
   "codemirror_mode": {
    "name": "ipython",
    "version": 3
   },
   "file_extension": ".py",
   "mimetype": "text/x-python",
   "name": "python",
   "nbconvert_exporter": "python",
   "pygments_lexer": "ipython3",
   "version": "3.10.4"
  }
 },
 "nbformat": 4,
 "nbformat_minor": 5
}
