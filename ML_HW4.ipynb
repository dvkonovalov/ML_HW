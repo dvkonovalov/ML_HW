{
 "cells": [
  {
   "cell_type": "markdown",
   "id": "0f156499-e9ec-44df-81ce-aa10608727af",
   "metadata": {},
   "source": [
    "Импортируем все нужные пакеты"
   ]
  },
  {
   "cell_type": "code",
   "execution_count": 139,
   "id": "4e4577ea-7ca7-4c19-a17d-8a20a75e0a6b",
   "metadata": {},
   "outputs": [],
   "source": [
    "from sklearn.datasets import load_diabetes\n",
    "from sklearn.discriminant_analysis import LinearDiscriminantAnalysis as LDA\n",
    "from sklearn.linear_model import LinearRegression\n",
    "from sklearn.metrics import mean_squared_error, mean_absolute_error, mean_squared_log_error, r2_score\n",
    "from matplotlib import pyplot as plt\n",
    "import pandas as pd\n",
    "import numpy as np"
   ]
  },
  {
   "cell_type": "markdown",
   "id": "712ac073-3ac2-4878-8a59-e7eadc3f285e",
   "metadata": {},
   "source": [
    "Загружу датасет sklearn.datasets.load_diabetes() и посмотрю, что в нем есть"
   ]
  },
  {
   "cell_type": "code",
   "execution_count": 140,
   "id": "3bb15e7a-1040-479b-b637-20385aaeee08",
   "metadata": {},
   "outputs": [
    {
     "data": {
      "text/html": [
       "<div>\n",
       "<style scoped>\n",
       "    .dataframe tbody tr th:only-of-type {\n",
       "        vertical-align: middle;\n",
       "    }\n",
       "\n",
       "    .dataframe tbody tr th {\n",
       "        vertical-align: top;\n",
       "    }\n",
       "\n",
       "    .dataframe thead th {\n",
       "        text-align: right;\n",
       "    }\n",
       "</style>\n",
       "<table border=\"1\" class=\"dataframe\">\n",
       "  <thead>\n",
       "    <tr style=\"text-align: right;\">\n",
       "      <th></th>\n",
       "      <th>age</th>\n",
       "      <th>sex</th>\n",
       "      <th>bmi</th>\n",
       "      <th>bp</th>\n",
       "      <th>s1</th>\n",
       "      <th>s2</th>\n",
       "      <th>s3</th>\n",
       "      <th>s4</th>\n",
       "      <th>s5</th>\n",
       "      <th>s6</th>\n",
       "      <th>target</th>\n",
       "    </tr>\n",
       "  </thead>\n",
       "  <tbody>\n",
       "    <tr>\n",
       "      <th>0</th>\n",
       "      <td>0.038076</td>\n",
       "      <td>0.050680</td>\n",
       "      <td>0.061696</td>\n",
       "      <td>0.021872</td>\n",
       "      <td>-0.044223</td>\n",
       "      <td>-0.034821</td>\n",
       "      <td>-0.043401</td>\n",
       "      <td>-0.002592</td>\n",
       "      <td>0.019907</td>\n",
       "      <td>-0.017646</td>\n",
       "      <td>151.0</td>\n",
       "    </tr>\n",
       "    <tr>\n",
       "      <th>1</th>\n",
       "      <td>-0.001882</td>\n",
       "      <td>-0.044642</td>\n",
       "      <td>-0.051474</td>\n",
       "      <td>-0.026328</td>\n",
       "      <td>-0.008449</td>\n",
       "      <td>-0.019163</td>\n",
       "      <td>0.074412</td>\n",
       "      <td>-0.039493</td>\n",
       "      <td>-0.068332</td>\n",
       "      <td>-0.092204</td>\n",
       "      <td>75.0</td>\n",
       "    </tr>\n",
       "    <tr>\n",
       "      <th>2</th>\n",
       "      <td>0.085299</td>\n",
       "      <td>0.050680</td>\n",
       "      <td>0.044451</td>\n",
       "      <td>-0.005670</td>\n",
       "      <td>-0.045599</td>\n",
       "      <td>-0.034194</td>\n",
       "      <td>-0.032356</td>\n",
       "      <td>-0.002592</td>\n",
       "      <td>0.002861</td>\n",
       "      <td>-0.025930</td>\n",
       "      <td>141.0</td>\n",
       "    </tr>\n",
       "    <tr>\n",
       "      <th>3</th>\n",
       "      <td>-0.089063</td>\n",
       "      <td>-0.044642</td>\n",
       "      <td>-0.011595</td>\n",
       "      <td>-0.036656</td>\n",
       "      <td>0.012191</td>\n",
       "      <td>0.024991</td>\n",
       "      <td>-0.036038</td>\n",
       "      <td>0.034309</td>\n",
       "      <td>0.022688</td>\n",
       "      <td>-0.009362</td>\n",
       "      <td>206.0</td>\n",
       "    </tr>\n",
       "    <tr>\n",
       "      <th>4</th>\n",
       "      <td>0.005383</td>\n",
       "      <td>-0.044642</td>\n",
       "      <td>-0.036385</td>\n",
       "      <td>0.021872</td>\n",
       "      <td>0.003935</td>\n",
       "      <td>0.015596</td>\n",
       "      <td>0.008142</td>\n",
       "      <td>-0.002592</td>\n",
       "      <td>-0.031988</td>\n",
       "      <td>-0.046641</td>\n",
       "      <td>135.0</td>\n",
       "    </tr>\n",
       "    <tr>\n",
       "      <th>...</th>\n",
       "      <td>...</td>\n",
       "      <td>...</td>\n",
       "      <td>...</td>\n",
       "      <td>...</td>\n",
       "      <td>...</td>\n",
       "      <td>...</td>\n",
       "      <td>...</td>\n",
       "      <td>...</td>\n",
       "      <td>...</td>\n",
       "      <td>...</td>\n",
       "      <td>...</td>\n",
       "    </tr>\n",
       "    <tr>\n",
       "      <th>437</th>\n",
       "      <td>0.041708</td>\n",
       "      <td>0.050680</td>\n",
       "      <td>0.019662</td>\n",
       "      <td>0.059744</td>\n",
       "      <td>-0.005697</td>\n",
       "      <td>-0.002566</td>\n",
       "      <td>-0.028674</td>\n",
       "      <td>-0.002592</td>\n",
       "      <td>0.031193</td>\n",
       "      <td>0.007207</td>\n",
       "      <td>178.0</td>\n",
       "    </tr>\n",
       "    <tr>\n",
       "      <th>438</th>\n",
       "      <td>-0.005515</td>\n",
       "      <td>0.050680</td>\n",
       "      <td>-0.015906</td>\n",
       "      <td>-0.067642</td>\n",
       "      <td>0.049341</td>\n",
       "      <td>0.079165</td>\n",
       "      <td>-0.028674</td>\n",
       "      <td>0.034309</td>\n",
       "      <td>-0.018114</td>\n",
       "      <td>0.044485</td>\n",
       "      <td>104.0</td>\n",
       "    </tr>\n",
       "    <tr>\n",
       "      <th>439</th>\n",
       "      <td>0.041708</td>\n",
       "      <td>0.050680</td>\n",
       "      <td>-0.015906</td>\n",
       "      <td>0.017293</td>\n",
       "      <td>-0.037344</td>\n",
       "      <td>-0.013840</td>\n",
       "      <td>-0.024993</td>\n",
       "      <td>-0.011080</td>\n",
       "      <td>-0.046883</td>\n",
       "      <td>0.015491</td>\n",
       "      <td>132.0</td>\n",
       "    </tr>\n",
       "    <tr>\n",
       "      <th>440</th>\n",
       "      <td>-0.045472</td>\n",
       "      <td>-0.044642</td>\n",
       "      <td>0.039062</td>\n",
       "      <td>0.001215</td>\n",
       "      <td>0.016318</td>\n",
       "      <td>0.015283</td>\n",
       "      <td>-0.028674</td>\n",
       "      <td>0.026560</td>\n",
       "      <td>0.044529</td>\n",
       "      <td>-0.025930</td>\n",
       "      <td>220.0</td>\n",
       "    </tr>\n",
       "    <tr>\n",
       "      <th>441</th>\n",
       "      <td>-0.045472</td>\n",
       "      <td>-0.044642</td>\n",
       "      <td>-0.073030</td>\n",
       "      <td>-0.081413</td>\n",
       "      <td>0.083740</td>\n",
       "      <td>0.027809</td>\n",
       "      <td>0.173816</td>\n",
       "      <td>-0.039493</td>\n",
       "      <td>-0.004222</td>\n",
       "      <td>0.003064</td>\n",
       "      <td>57.0</td>\n",
       "    </tr>\n",
       "  </tbody>\n",
       "</table>\n",
       "<p>442 rows × 11 columns</p>\n",
       "</div>"
      ],
      "text/plain": [
       "          age       sex       bmi        bp        s1        s2        s3  \\\n",
       "0    0.038076  0.050680  0.061696  0.021872 -0.044223 -0.034821 -0.043401   \n",
       "1   -0.001882 -0.044642 -0.051474 -0.026328 -0.008449 -0.019163  0.074412   \n",
       "2    0.085299  0.050680  0.044451 -0.005670 -0.045599 -0.034194 -0.032356   \n",
       "3   -0.089063 -0.044642 -0.011595 -0.036656  0.012191  0.024991 -0.036038   \n",
       "4    0.005383 -0.044642 -0.036385  0.021872  0.003935  0.015596  0.008142   \n",
       "..        ...       ...       ...       ...       ...       ...       ...   \n",
       "437  0.041708  0.050680  0.019662  0.059744 -0.005697 -0.002566 -0.028674   \n",
       "438 -0.005515  0.050680 -0.015906 -0.067642  0.049341  0.079165 -0.028674   \n",
       "439  0.041708  0.050680 -0.015906  0.017293 -0.037344 -0.013840 -0.024993   \n",
       "440 -0.045472 -0.044642  0.039062  0.001215  0.016318  0.015283 -0.028674   \n",
       "441 -0.045472 -0.044642 -0.073030 -0.081413  0.083740  0.027809  0.173816   \n",
       "\n",
       "           s4        s5        s6  target  \n",
       "0   -0.002592  0.019907 -0.017646   151.0  \n",
       "1   -0.039493 -0.068332 -0.092204    75.0  \n",
       "2   -0.002592  0.002861 -0.025930   141.0  \n",
       "3    0.034309  0.022688 -0.009362   206.0  \n",
       "4   -0.002592 -0.031988 -0.046641   135.0  \n",
       "..        ...       ...       ...     ...  \n",
       "437 -0.002592  0.031193  0.007207   178.0  \n",
       "438  0.034309 -0.018114  0.044485   104.0  \n",
       "439 -0.011080 -0.046883  0.015491   132.0  \n",
       "440  0.026560  0.044529 -0.025930   220.0  \n",
       "441 -0.039493 -0.004222  0.003064    57.0  \n",
       "\n",
       "[442 rows x 11 columns]"
      ]
     },
     "execution_count": 140,
     "metadata": {},
     "output_type": "execute_result"
    }
   ],
   "source": [
    "data = load_diabetes()\n",
    "\n",
    "df=pd.DataFrame(data=np.c_[data['data'],data['target']],columns=data['feature_names']+['target'])\n",
    "df"
   ]
  },
  {
   "cell_type": "markdown",
   "id": "c5852d6a-693f-48f7-8aeb-32cfa4fc317a",
   "metadata": {},
   "source": [
    "Датасет load_diabetes из библиотеки sklearn содержит информацию о 442 пациентах с диабетом. По умолчанию возвращает значения уже масштабированные (переменные объекта центрируются по среднему значению и масштабируются на стандартное отклонение, умноженное на квадратный корень из n_samples), если задать scaled = False, то вернутся не масштабированные значения. Всего в датасете 10 признаков:\n",
    "\r\n",
    "1. age (возраст пациента)\r\n",
    "2. sex (пол пациента)\r\n",
    "3. body mass i, в датасете столбец bmindex (индекс массы тела)\r\n",
    "4. average blood pre, в датасете столбец bpssure (среднее артериальное давление)\r\n",
    "5. s1, s2, s3, s4, s5различныеричные измличных химических показателей в \n",
    "6. рови)\r\n",
    "\r\n",
    "Целевая переменная в этом датасете - quantitive measure of disease progression (количественная мера прогрессирования заболевания), которая представляет собой числовую оценку прогрессирования заболевания диабета через год после началдования.а иссле Для удобства переименовываю ее вдования."
   ]
  },
  {
   "cell_type": "markdown",
   "id": "7ae34d17-c5e1-46dc-b096-807f97609b36",
   "metadata": {},
   "source": [
    "Использую метод понижения размерности LDA для снижения количества признаков до одного."
   ]
  },
  {
   "cell_type": "code",
   "execution_count": 141,
   "id": "5fb47f24-f3bb-4404-aa5b-7389d384ce8c",
   "metadata": {},
   "outputs": [],
   "source": [
    "lda = LDA(n_components=1)\n",
    "X_lda = lda.fit_transform(data.data, data.target)\n",
    "Y = data.target"
   ]
  },
  {
   "cell_type": "markdown",
   "id": "d4498c97-adc6-4ea9-9cab-de341bd78673",
   "metadata": {},
   "source": [
    "Далее реализую алгоритм линейной регрессии с использованием градиентного спуска и функцией потерь Smse. Продифференцирована она была в условии к заданию."
   ]
  },
  {
   "cell_type": "code",
   "execution_count": 142,
   "id": "10384065-d73f-454d-a322-baaaa2280ed2",
   "metadata": {},
   "outputs": [],
   "source": [
    "def gradient_descent_with_MSE(X, Y, algorithm_step=0.01, num_iterations=1000):\n",
    "    \"\"\"\n",
    "    Градиентный спуск с помощью функции потерь Smse\n",
    "    :param X: признак\n",
    "    :param Y: целевая переменная\n",
    "    :param algorithm_step:шаг алгоритма\n",
    "    :param num_iterations: количество итераций\n",
    "    :return: прогноз\n",
    "    \"\"\"\n",
    "    n = len(Y)\n",
    "    a_b = np.ones(2)\n",
    "    dif = np.ones(2)\n",
    "    for iteration in range(num_iterations):\n",
    "        predictions = np.multiply(X, a_b)\n",
    "        errors = Y - predictions[:, 0] - predictions[:, 1]\n",
    "        dif[0] = (-2 / n) * np.dot(X[:, 0], errors)\n",
    "\n",
    "        dif[1] = (-2 / n) * np.sum(errors)\n",
    "\n",
    "        a_b -= algorithm_step * dif\n",
    "    answer = np.ones(n)\n",
    "    for i in range(n):\n",
    "        answer[i] = X[i, 0]*a_b[0] + a_b[1]\n",
    "\n",
    "    return answer"
   ]
  },
  {
   "cell_type": "markdown",
   "id": "fd74cdea-47cf-4e5f-be78-600146c5222c",
   "metadata": {},
   "source": [
    "Также реализую алгоритм линейной регрессии с использованием градиентного спуска и функцией потерь Smae. Продифференцировав, получу соотношения для реализации алгоритма (дифференцирование и упрощение для реализации можно посмотреть в файле dif.jpg в репозитории. Там I отмечено выражение под суммой и показано как можно оптимизировать, чтобы не делать сложных вычислений. Надеюсь будет понятно)"
   ]
  },
  {
   "cell_type": "code",
   "execution_count": 143,
   "id": "d643f348-5a3f-4358-9f00-57ab115bfcff",
   "metadata": {},
   "outputs": [],
   "source": [
    "def gradient_descent_with_MAE(X, Y, algorithm_step=0.01, num_iterations=10**5):\n",
    "    \"\"\"\n",
    "    Градиентный спуск с помощью функции потерь Smse\n",
    "    :param X: признак\n",
    "    :param Y: целевая переменная\n",
    "    :param algorithm_step:шаг алгоритма\n",
    "    :param num_iterations: количество итераций\n",
    "    :return: прогноз\n",
    "    \"\"\"\n",
    "    n = len(Y)\n",
    "    a_b = np.ones(2)\n",
    "    dif = np.ones(2)\n",
    "    for iteration in range(num_iterations):\n",
    "        predictions = np.multiply(X, a_b)\n",
    "        errors = Y - predictions[:, 0] - predictions[:, 1]\n",
    "        difa = 0\n",
    "        difb = 0\n",
    "        for i in range(n):\n",
    "            if errors[i]>0:\n",
    "                difa += -X[i, 0]\n",
    "                difb += -1\n",
    "            else:\n",
    "                difa += X[i, 0]\n",
    "                difb += 1 \n",
    "        dif[0] = difa/n\n",
    "        dif[1] = difb/n\n",
    "        a_b -= algorithm_step * dif\n",
    "    answer = np.ones(n)\n",
    "    for i in range(n):\n",
    "        answer[i] = X[i, 0]*a_b[0] + a_b[1]\n",
    "\n",
    "    return answer"
   ]
  },
  {
   "cell_type": "markdown",
   "id": "316cbc01-1de7-47c8-88ce-9d6a077e2d14",
   "metadata": {},
   "source": [
    "Прогоним данные из датасета на собственных алгоритмах, чтобы в дальнейшем посмотреть разницу с алгоритмом библиотеки sklearn.\n",
    "    Также преобразую X в матрицу под коэффициенты a и b (первый столбец под a, второй под b). Сначала построю прогноз с помощью линейной регрессии с функцией потерь Smse"
   ]
  },
  {
   "cell_type": "code",
   "execution_count": 144,
   "id": "14d2eb6a-c41d-45bb-9bcc-6497a396e6c1",
   "metadata": {},
   "outputs": [],
   "source": [
    "X = np.c_[X_lda, np.ones((len(X_lda), 1))]\n",
    "predictions_our_mse = gradient_descent_with_MSE(X, Y)"
   ]
  },
  {
   "cell_type": "markdown",
   "id": "c170e4e5-209b-4585-a8f6-70bf8ff527fd",
   "metadata": {},
   "source": [
    "Теперь посторою прогноз с помощью линейной регрессии с функцией потерь Smae"
   ]
  },
  {
   "cell_type": "code",
   "execution_count": 145,
   "id": "3707dc1c-9993-4ff8-9bb1-5fe22ddb1770",
   "metadata": {},
   "outputs": [],
   "source": [
    "predictions_our_mae = gradient_descent_with_MAE(X, Y)"
   ]
  },
  {
   "cell_type": "markdown",
   "id": "ea3916a0-5a5f-464a-9e7d-1f8a07674623",
   "metadata": {},
   "source": [
    "Теперь построю прогнозы на тех же данных, , используя стандартную реализацию LinearRegression \n",
    "из sklearn"
   ]
  },
  {
   "cell_type": "code",
   "execution_count": 146,
   "id": "0bda9dfc-029d-40de-a5f2-42d7654331b3",
   "metadata": {},
   "outputs": [],
   "source": [
    "linearregression_sklearn = LinearRegression()\n",
    "linearregression_sklearn.fit(X_lda, Y)\n",
    "predictions_sklearn = linearregression_sklearn.predict(X_lda)"
   ]
  },
  {
   "cell_type": "markdown",
   "id": "362581ad-87f7-44b0-9b69-974b5e8ada4f",
   "metadata": {},
   "source": [
    "Сравню основные метрики качества для \"собственной\"реализации c Smse и варианта из sklearn – MSE, MSLE, MAE, R2, RMSE."
   ]
  },
  {
   "cell_type": "code",
   "execution_count": 147,
   "id": "8ad9ffcb-b0d0-44f5-b666-2b7dfea3fb59",
   "metadata": {},
   "outputs": [
    {
     "name": "stdout",
     "output_type": "stream",
     "text": [
      "Собственная реализация:\t\t\tРеализация из sklearn:\t\t\tРазница в точности:\n",
      "MSE: 2962.904 \t\t\t\t 2962.904 \t\t\t\t 0.0\n",
      "MSLE: 0.175 \t\t\t\t 0.175 \t\t\t\t \t 0.0\n",
      "MAE: 43.755 \t\t\t\t 43.755 \t\t\t\t 0.0\n",
      "R2: 0.5 \t\t\t\t 0.5 \t\t\t\t \t 0.0\n",
      "RMSE: 54.433 \t\t\t\t 54.433 \t\t\t\t 0.0\n"
     ]
    }
   ],
   "source": [
    "mse_my = mean_squared_error(Y, predictions_our_mse)\n",
    "msle_my = mean_squared_log_error(Y, predictions_our_mse)\n",
    "mae_my = mean_absolute_error(Y, predictions_our_mse)\n",
    "r2_my = r2_score(Y, predictions_our_mse)\n",
    "rmse_my = np.sqrt(mse_my)\n",
    "\n",
    "mse_sklearn = mean_squared_error(Y, predictions_sklearn)\n",
    "msle_sklearn = mean_squared_log_error(Y, predictions_sklearn)\n",
    "mae_sklearn = mean_absolute_error(Y, predictions_sklearn)\n",
    "r2_sklearn = r2_score(Y, predictions_sklearn)\n",
    "rmse_sklearn = np.sqrt(mse_sklearn)\n",
    "\n",
    "\n",
    "print(\"Собственная реализация:\\t\\t\\tРеализация из sklearn:\\t\\t\\tРазница в точности:\")\n",
    "indent = \"\\t\\t\\t\\t\"\n",
    "print(\"MSE:\", round(mse_my, 3), indent, round(mse_sklearn, 3), indent, round(mse_my, 3) - round(mse_sklearn, 3))\n",
    "print(\"MSLE:\", round(msle_my, 3), indent, round(msle_sklearn, 3), indent, \"\\t\", round(msle_my, 3) - round(msle_sklearn, 3))\n",
    "print(\"MAE:\", round(mae_my, 3), indent, round(mae_sklearn, 3), indent, round(mae_my, 3) - round(mae_sklearn, 3))\n",
    "print(\"R2:\", round(r2_my, 3), indent, round(r2_sklearn, 3),  indent, \"\\t\", round(r2_my, 3) - round(r2_sklearn, 3))\n",
    "print(\"RMSE:\", round(rmse_my, 3), indent, round(rmse_sklearn, 3), indent, round(rmse_my, 3) - round(rmse_sklearn, 3))"
   ]
  },
  {
   "cell_type": "markdown",
   "id": "f60a7639-bf1e-4c5b-8bd9-85dcd50979cf",
   "metadata": {},
   "source": [
    "Как можно видеть, собственная реализация и реализация sklearn никак не отличаются в точности реализации, что говорит о правильном написание алгоритма."
   ]
  },
  {
   "cell_type": "markdown",
   "id": "2dd019d2-1416-4e70-b7cc-82eac3f61423",
   "metadata": {},
   "source": [
    "Теперь также сравню основные метрики качества для \"собственной\"реализации c Smae и варианта из sklearn – MSE, MSLE, MAE, R2, RMSE."
   ]
  },
  {
   "cell_type": "code",
   "execution_count": 148,
   "id": "b02c4ef6-f576-4892-b58a-628a7bc2760c",
   "metadata": {},
   "outputs": [
    {
     "name": "stdout",
     "output_type": "stream",
     "text": [
      "Собственная реализация:\t\t\tРеализация из sklearn:\t\t\tРазница в точности:\n",
      "MSE: 2969.807 \t\t\t\t 2962.904 \t\t\t\t 6.902999999999793\n",
      "MSLE: 0.174 \t\t\t\t 0.175 \t\t\t\t \t -0.0010000000000000009\n",
      "MAE: 43.733 \t\t\t\t 43.755 \t\t\t\t -0.02200000000000557\n",
      "R2: 0.499 \t\t\t\t 0.5 \t\t\t\t \t -0.0010000000000000009\n",
      "RMSE: 54.496 \t\t\t\t 54.433 \t\t\t\t 0.06300000000000239\n"
     ]
    }
   ],
   "source": [
    "mse_my = mean_squared_error(Y, predictions_our_mae)\n",
    "msle_my = mean_squared_log_error(Y, predictions_our_mae)\n",
    "mae_my = mean_absolute_error(Y, predictions_our_mae)\n",
    "r2_my = r2_score(Y, predictions_our_mae)\n",
    "rmse_my = np.sqrt(mse_my)\n",
    "\n",
    "mse_sklearn = mean_squared_error(Y, predictions_sklearn)\n",
    "msle_sklearn = mean_squared_log_error(Y, predictions_sklearn)\n",
    "mae_sklearn = mean_absolute_error(Y, predictions_sklearn)\n",
    "r2_sklearn = r2_score(Y, predictions_sklearn)\n",
    "rmse_sklearn = np.sqrt(mse_sklearn)\n",
    "\n",
    "\n",
    "print(\"Собственная реализация:\\t\\t\\tРеализация из sklearn:\\t\\t\\tРазница в точности:\")\n",
    "indent = \"\\t\\t\\t\\t\"\n",
    "print(\"MSE:\", round(mse_my, 3), indent, round(mse_sklearn, 3), indent, round(mse_my, 3) - round(mse_sklearn, 3))\n",
    "print(\"MSLE:\", round(msle_my, 3), indent, round(msle_sklearn, 3), indent, \"\\t\", round(msle_my, 3) - round(msle_sklearn, 3))\n",
    "print(\"MAE:\", round(mae_my, 3), indent, round(mae_sklearn, 3), indent, round(mae_my, 3) - round(mae_sklearn, 3))\n",
    "print(\"R2:\", round(r2_my, 3), indent, round(r2_sklearn, 3),  indent, \"\\t\", round(r2_my, 3) - round(r2_sklearn, 3))\n",
    "print(\"RMSE:\", round(rmse_my, 3), indent, round(rmse_sklearn, 3), indent, round(rmse_my, 3) - round(rmse_sklearn, 3))"
   ]
  },
  {
   "cell_type": "markdown",
   "id": "8cb8f308-9939-463a-af88-a8f536b26886",
   "metadata": {},
   "source": [
    "Реализация линейной регрессии с функцией потерь Smae немного хуже собственной реализации с функцией потерь Smse и реализации sklearn. Но стоит отметить, что при одинаковом шаге алгоритма данная реализация требует в 100 раз больше итераций, чтобы достичь приблизительно такой же точности (что явно не является ее плюсом)."
   ]
  },
  {
   "cell_type": "markdown",
   "id": "64a583c3-0190-4c1a-ae06-720e5e53bcc5",
   "metadata": {},
   "source": [
    "Таким образом, наиболее эффективными оказились собственный алгоритм с функцией потерь Smse и реализация sklearn. На вопрос какой из них наименее подвержен обучению, могу предположить, что это алгоритм из библиотеки sklearn."
   ]
  },
  {
   "cell_type": "markdown",
   "id": "8424b602-bc1b-43a9-9910-be9b45a82859",
   "metadata": {},
   "source": [
    "Визуализирую на плоскости свои реализации и реализацию sklearn"
   ]
  },
  {
   "cell_type": "code",
   "execution_count": 149,
   "id": "982919ac-2752-4bc4-9c49-e22927aa829d",
   "metadata": {},
   "outputs": [
    {
     "data": {
      "image/png": "[encoded data removed]",
      "text/plain": [
       "<Figure size 640x480 with 1 Axes>"
      ]
     },
     "metadata": {},
     "output_type": "display_data"
    }
   ],
   "source": [
    "plt.scatter(X_lda, Y, color='b', label='Данные')\n",
    "plt.plot(X_lda, predictions_our_mse, color='r', label='Собственная реализация c MSE')\n",
    "plt.plot(X_lda, predictions_our_mae, color='g', label='Собственная реализация c MAE')\n",
    "plt.plot(X_lda, predictions_sklearn, color='y', label='LinearRegression из sklearn')\n",
    "plt.xlabel('Пониженная размерность')\n",
    "plt.ylabel('Целевая переменная')\n",
    "plt.legend()\n",
    "plt.show()"
   ]
  },
  {
   "cell_type": "markdown",
   "id": "4572e1de-1bc7-4dae-beb9-1fada23d1b93",
   "metadata": {},
   "source": [
    "Как видно из визуализации на плоскости, графики прямых (регрессий) собственной реализации с функцией ошибок Smse и реализации sklearn уложились в одну прямую (поэтому одну из них и не видно). График прямой с собственной реализацией с функцией ошибок Smae находится очень близко к двум остальным реализациям, что не удивительно, так как матрики качества отличаются совсем незначительно."
   ]
  },
  {
   "cell_type": "markdown",
   "id": "5712cac4-2364-49cc-a59a-cbcc445e5c27",
   "metadata": {},
   "source": [
    "Вывод: в ходе домашнего задания был рассмотрен алгоритм линейной регрессии с использованием градиентного спуска и различных функций потерь. \"Вручную\" были реализованы алгоритмы с функциями потерь Smae и Smse, рассмотрен алгоритм LinearRegression из библиотеки sklearn и проведено их сравнение через различные метрики качества. Стоит отметить, что собственные реализации по качеству работы не уступают реализации библиотеки sklearn. Также в конце проведено визульное сравнение алгоритмов, которое также подтверждает примерно одинаковый результат работы алгоритмов."
   ]
  }
 ],
 "metadata": {
  "kernelspec": {
   "display_name": "Python 3 (ipykernel)",
   "language": "python",
   "name": "python3"
  },
  "language_info": {
   "codemirror_mode": {
    "name": "ipython",
    "version": 3
   },
   "file_extension": ".py",
   "mimetype": "text/x-python",
   "name": "python",
   "nbconvert_exporter": "python",
   "pygments_lexer": "ipython3",
   "version": "3.10.4"
  }
 },
 "nbformat": 4,
 "nbformat_minor": 5
}
