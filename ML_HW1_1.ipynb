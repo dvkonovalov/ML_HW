{
 "cells": [
  {
   "cell_type": "code",
   "execution_count": 8,
   "id": "b14e375e-0156-4586-9ba7-e3cd58e98b94",
   "metadata": {},
   "outputs": [],
   "source": [
    "import pandas as pd\n",
    "\n",
    "data = pd.read_csv(\"titanic.csv\") #считываем все данные из файла в данную переменную"
   ]
  },
  {
   "cell_type": "code",
   "execution_count": 9,
   "id": "af6faeba-080b-4fb7-ba91-182e4e8d35fc",
   "metadata": {},
   "outputs": [
    {
     "name": "stdout",
     "output_type": "stream",
     "text": [
      "На корабле ехало 577 мужчин и 314 женщин\n"
     ]
    }
   ],
   "source": [
    "#Какое количество мужчин и женщин ехало на корабле?\n",
    "\n",
    "count_people = data['Sex'].value_counts()\n",
    "print(f'На корабле ехало {count_people[\"male\"]} мужчин и {count_people[\"female\"]} женщин')"
   ]
  },
  {
   "cell_type": "code",
   "execution_count": 10,
   "id": "00c55b81-26e3-4b7e-9e06-adfe49fae53d",
   "metadata": {},
   "outputs": [
    {
     "name": "stdout",
     "output_type": "stream",
     "text": [
      "Доля выживших пассажиров -  0.3838383838383838\n"
     ]
    }
   ],
   "source": [
    "#Какой части пассажиров удалось выжить? Посчитайте долю выживших пассажиров.\n",
    "\n",
    "survived = data[\"Survived\"].sum()\n",
    "print('Доля выживших пассажиров - ', survived/data.shape[0])"
   ]
  },
  {
   "cell_type": "code",
   "execution_count": 11,
   "id": "64aaadcc-b644-43cd-a664-a942fbabd16f",
   "metadata": {},
   "outputs": [
    {
     "name": "stdout",
     "output_type": "stream",
     "text": [
      "Доля пассажиров первого класса среди всех пассажиров составляет -  0.24242424242424243\n"
     ]
    },
    {
     "data": {
      "text/plain": [
       "<AxesSubplot:title={'center':'Классы пассажиров'}>"
      ]
     },
     "execution_count": 11,
     "metadata": {},
     "output_type": "execute_result"
    },
    {
     "data": {
      "image/png": "[encoded data removed]",
      "text/plain": [
       "<Figure size 640x480 with 1 Axes>"
      ]
     },
     "metadata": {},
     "output_type": "display_data"
    }
   ],
   "source": [
    "#Какую долю пассажиры первого класса составляли среди всех пассассажиров? \n",
    "#Постройте круговую диаграмму по всем классам пассажиров\n",
    "\n",
    "pclass = data[\"Pclass\"].value_counts()\n",
    "print(\"Доля пассажиров первого класса среди всех пассажиров составляет - \", pclass[1]/data.shape[0])\n",
    "pclass.plot(kind='pie', title=\"Классы пассажиров\", autopct='%1.0f%%', ylabel='')"
   ]
  },
  {
   "cell_type": "code",
   "execution_count": 12,
   "id": "9c36b814-7acf-4220-afbc-b3439455e837",
   "metadata": {},
   "outputs": [
    {
     "name": "stdout",
     "output_type": "stream",
     "text": [
      "Средний возраст пассажиров -  29.69911764705882\n",
      "Медиана возраста пассажиров -  28.0\n",
      "25-ый перцентиль (первый квартиль) -  20.125\n"
     ]
    }
   ],
   "source": [
    "#Какого возраста были пассажиры? Посчитайте среднее и медиану возраста пассажиров. \n",
    "#В чем статистическая разница между показателями медианы и среднего? (1) Выведите любой перцентиль возраста пассажиров. \n",
    "#Что показывает перцентиль в статистике? (2)\n",
    "\n",
    "statistics = data['Age'].describe()\n",
    "print('Средний возраст пассажиров - ', statistics['mean'])\n",
    "print('Медиана возраста пассажиров - ', data['Age'].median())\n",
    "print('25-ый перцентиль (первый квартиль) - ', statistics['25%'])"
   ]
  },
  {
   "cell_type": "markdown",
   "id": "68fc9e8e-beb3-4231-8068-ed9bcaedccfd",
   "metadata": {},
   "source": [
    "ОТВЕТ НА ВОПРОС 1: Медиана отличается от среднего тем, что среднее - это сумма всех значений в наборе данных, поделенная на количество значений, медиана — это среднее значение набора данных (то есть если расположить данные по  возрастанию, то это будет среднее среди всех значение). \n",
    "Медиана является конкретным значением из набора данных, в то время как среднее не обязательно будет таковым.\n",
    "\n",
    "ОТВЕТ НА ВОПРОС 2: Перцентиль показывает, в какой части распределения находится данное значение(или, иначе говоря, сколько процентов значений из набора меньше или равны данному значению)."
   ]
  },
  {
   "cell_type": "code",
   "execution_count": 13,
   "id": "e158d966-b68a-43e7-a4e9-d21ef8250e2c",
   "metadata": {},
   "outputs": [
    {
     "name": "stdout",
     "output_type": "stream",
     "text": [
      "Корреляция Пирсона между признаками SibSp и Parch -  0.41483769862015646\n"
     ]
    }
   ],
   "source": [
    "# Коррелируют ли число братьев/сестер/супругов с числом родителей/детей? Посчитайте корреляцию Пирсона между признаками SibSp и Parch.\n",
    "# Что показывает корреляция?\n",
    "\n",
    "print('Корреляция Пирсона между признаками SibSp и Parch - ', data['SibSp'].corr(data['Parch'], method ='pearson'))"
   ]
  },
  {
   "cell_type": "markdown",
   "id": "a34a4c84-1376-4fdc-a5e5-ea48e4bc29b1",
   "metadata": {},
   "source": [
    "Число братьев/сестер/супругов с числом родителей/детей имеет слабую положительную корреляцию.\n",
    "Корреляция - это некоторая степень связи между 2-мя или несколькими независимыми явлениями. Взаимосвязь двух или нескольких случайных параметров. Если коэффициент корреляции по модулю стремится к 1, то величины зависимы, если стремится к 0, то независимы."
   ]
  },
  {
   "cell_type": "code",
   "execution_count": 14,
   "id": "24e5517a-936e-448d-a858-a5123b6d2b9f",
   "metadata": {},
   "outputs": [
    {
     "name": "stdout",
     "output_type": "stream",
     "text": [
      "Самое популярное женское имя на корабле -  Anna\n"
     ]
    }
   ],
   "source": [
    "#Какое самое популярное женское имя на корабле?\n",
    "\n",
    "names = []\n",
    "for i, record in data.iterrows():\n",
    "    if record['Sex'] == 'female':\n",
    "        name = record['Name']\n",
    "        index = name.find(\"(\")\n",
    "        if index == -1: #Если у женщины своя фамилия\n",
    "            name = name[name.find(\".\")+2:]\n",
    "            if name.find(\" \")!=-1:\n",
    "                name = name[:name.find(\" \")]\n",
    "            names.append(name)\n",
    "        else:   #Если у женщины фамилия мужа\n",
    "            name = name[index + 1:]\n",
    "            names.append(name[:name.find(\" \")])\n",
    "name = pd.DataFrame({'Name':names}).value_counts().index[0][0]\n",
    "print(\"Самое популярное женское имя на корабле - \", name)\n"
   ]
  },
  {
   "cell_type": "code",
   "execution_count": null,
   "id": "258914cb-e92b-4c9c-b978-dec78ea1d562",
   "metadata": {},
   "outputs": [],
   "source": []
  }
 ],
 "metadata": {
  "kernelspec": {
   "display_name": "Python 3 (ipykernel)",
   "language": "python",
   "name": "python3"
  },
  "language_info": {
   "codemirror_mode": {
    "name": "ipython",
    "version": 3
   },
   "file_extension": ".py",
   "mimetype": "text/x-python",
   "name": "python",
   "nbconvert_exporter": "python",
   "pygments_lexer": "ipython3",
   "version": "3.10.4"
  }
 },
 "nbformat": 4,
 "nbformat_minor": 5
}
